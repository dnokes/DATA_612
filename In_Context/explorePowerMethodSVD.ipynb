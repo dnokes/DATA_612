{
 "cells": [
  {
   "cell_type": "code",
   "execution_count": 2,
   "metadata": {},
   "outputs": [],
   "source": [
    "# import python packages\n",
    "import numpy as np\n",
    "from numpy.linalg import norm\n",
    "\n",
    "import random\n",
    "from math import sqrt\n",
    "\n",
    "# set random seed\n",
    "randomSeed = 12345678\n",
    "\n",
    "def randomUnitVector(n):\n",
    "    unnormalized = [random.normalvariate(0, \n",
    "      1) for _ in range(n)]\n",
    "    xNorm = sqrt(sum(x * x for x in unnormalized))\n",
    "    return [x / xNorm for x in unnormalized]\n",
    "\n",
    "def svdPowerMethod_1d(A, epsilon=1e-10):\n",
    "    m, n = A.shape\n",
    "    x = randomUnitVector(min(m,n))\n",
    "    lastV = None\n",
    "    V = x\n",
    "    if m > n:\n",
    "        B = np.dot(A.T, A)\n",
    "    else:\n",
    "        B = np.dot(A, A.T)\n",
    "    while True:\n",
    "        lastV = V\n",
    "        print('B')\n",
    "        print(B)\n",
    "        V = np.dot(B, lastV)\n",
    "        V = V / norm(V)\n",
    "        print('V')\n",
    "        print(V)\n",
    "        if abs(np.dot(V, lastV)) > 1 - epsilon:\n",
    "            return V\n",
    "\n",
    "def svdPowerMethodRow(A, k=None, epsilon=1e-10):\n",
    "    A = np.array(A, dtype=float)\n",
    "    m, n = A.shape\n",
    "    svdEstimate = []\n",
    "    if k is None:\n",
    "        k = min(m, n)\n",
    "    for i in range(k):\n",
    "        matrixFor1D = A.copy()\n",
    "        for singularValue, u, v in svdEstimate[:i]:\n",
    "            matrixFor1D -= singularValue * np.outer(u, v)\n",
    "        v = svdPowerMethod_1d(matrixFor1D,epsilon=epsilon)\n",
    "        u_unnormalized = np.dot(A, v)\n",
    "        sigma = norm(u_unnormalized)\n",
    "        u = u_unnormalized / sigma\n",
    "        svdEstimate.append((sigma, u, v))\n",
    "    output = [np.array(x) for x in zip(*svdEstimate)]\n",
    "    singularValues, us, vs = output\n",
    "    return singularValues, us.T, vs\n",
    "\n",
    "def svdPowerMethodColumn(A, k=None, epsilon=1e-10):\n",
    "    A = np.array(A, dtype=float)\n",
    "    m, n = A.shape\n",
    "    svdEstimate = []\n",
    "    if k is None:\n",
    "        k = min(m, n)\n",
    "    for i in range(k):\n",
    "        matrixFor1D = A.copy()\n",
    "        for singularValue, u, v in svdEstimate[:i]:\n",
    "            matrixFor1D -= singularValue * np.outer(u, v)\n",
    "        u = svdPowerMethod_1d(matrixFor1D,epsilon=epsilon)\n",
    "        v_unnormalized = np.dot(A.T, u)\n",
    "        sigma = norm(v_unnormalized)\n",
    "        v = v_unnormalized / sigma\n",
    "        svdEstimate.append((sigma, u, v))\n",
    "    output = [np.array(x) for x in zip(*svdEstimate)]\n",
    "    singularValues, us, vs = output\n",
    "    return singularValues, us.T, vs\n",
    "\n",
    "def svdPowerMethod(A, k=None, epsilon=1e-10):\n",
    "    A = np.array(A, dtype=float)\n",
    "    m, n = A.shape\n",
    "    if m > n:\n",
    "      s, uT, vs=svdPowerMethodRow(A,\n",
    "      k, epsilon=1e-10)\n",
    "    else:\n",
    "      s, uT, vs=svdPowerMethodColumn(A, \n",
    "      k, epsilon=1e-10)\n",
    "    return s, uT, vs\n",
    "\n",
    "\n",
    "\n",
    "\n"
   ]
  },
  {
   "cell_type": "code",
   "execution_count": 3,
   "metadata": {},
   "outputs": [
    {
     "name": "stdout",
     "output_type": "stream",
     "text": [
      "A is a 8, x 3 matrix\n"
     ]
    }
   ],
   "source": [
    "random.seed(randomSeed)\n",
    "np.random.seed(randomSeed)\n",
    "\n",
    "# create sample matrix\n",
    "A = np.array([\n",
    "  [4, 1, 1],\n",
    "  [2, 5, 3],\n",
    "  [1, 2, 1],\n",
    "  [4, 5, 5],\n",
    "  [3, 5, 2],\n",
    "  [2, 4, 2],  \n",
    "  [5, 3, 1],\n",
    "  [2, 2, 5],\n",
    "  ], dtype='float64')\n",
    "\n",
    "# determine n rows and m columns\n",
    "m,n = A.shape\n",
    "print(\"A is a \"+str(m)+\", x \"+str(n)+\" matrix\")"
   ]
  },
  {
   "cell_type": "code",
   "execution_count": 24,
   "metadata": {},
   "outputs": [],
   "source": [
    "matrixFor1D = A.copy()\n",
    "matrixFor1D -= A"
   ]
  },
  {
   "cell_type": "code",
   "execution_count": 25,
   "metadata": {},
   "outputs": [
    {
     "name": "stdout",
     "output_type": "stream",
     "text": [
      "[[0. 0. 0.]\n",
      " [0. 0. 0.]\n",
      " [0. 0. 0.]\n",
      " [0. 0. 0.]\n",
      " [0. 0. 0.]\n",
      " [0. 0. 0.]\n",
      " [0. 0. 0.]\n",
      " [0. 0. 0.]]\n"
     ]
    }
   ],
   "source": [
    "print(matrixFor1D)"
   ]
  },
  {
   "cell_type": "code",
   "execution_count": 26,
   "metadata": {},
   "outputs": [],
   "source": [
    "B = np.dot(A.T,A)"
   ]
  },
  {
   "cell_type": "code",
   "execution_count": 27,
   "metadata": {},
   "outputs": [
    {
     "name": "stdout",
     "output_type": "stream",
     "text": [
      "[[ 79.  78.  56.]\n",
      " [ 78. 109.  74.]\n",
      " [ 56.  74.  70.]]\n"
     ]
    }
   ],
   "source": [
    "print(B)"
   ]
  },
  {
   "cell_type": "code",
   "execution_count": 12,
   "metadata": {},
   "outputs": [
    {
     "name": "stdout",
     "output_type": "stream",
     "text": [
      "B\n",
      "[[ 79.  78.  56.]\n",
      " [ 78. 109.  74.]\n",
      " [ 56.  74.  70.]]\n",
      "V\n",
      "[-0.99954365  0.00198764  0.03014217]\n",
      "B\n",
      "[[ 79.  78.  56.]\n",
      " [ 78. 109.  74.]\n",
      " [ 56.  74.  70.]]\n",
      "V\n",
      "[-0.6396599  -0.62635826 -0.44554522]\n",
      "B\n",
      "[[ 79.  78.  56.]\n",
      " [ 78. 109.  74.]\n",
      " [ 56.  74.  70.]]\n",
      "V\n",
      "[-0.54976049 -0.66824305 -0.50121315]\n",
      "B\n",
      "[[ 79.  78.  56.]\n",
      " [ 78. 109.  74.]\n",
      " [ 56.  74.  70.]]\n",
      "V\n",
      "[-0.54247194 -0.67055159 -0.50604818]\n",
      "B\n",
      "[[ 79.  78.  56.]\n",
      " [ 78. 109.  74.]\n",
      " [ 56.  74.  70.]]\n",
      "V\n",
      "[-0.54189769 -0.67069912 -0.50646775]\n",
      "B\n",
      "[[ 79.  78.  56.]\n",
      " [ 78. 109.  74.]\n",
      " [ 56.  74.  70.]]\n",
      "V\n",
      "[-0.54185205 -0.67070917 -0.50650327]\n",
      "B\n",
      "[[ 79.  78.  56.]\n",
      " [ 78. 109.  74.]\n",
      " [ 56.  74.  70.]]\n",
      "V\n",
      "[-0.5418484  -0.67070989 -0.50650622]\n"
     ]
    }
   ],
   "source": [
    "v1=svdPowerMethod_1d(A, epsilon=1e-10)"
   ]
  },
  {
   "cell_type": "code",
   "execution_count": null,
   "metadata": {},
   "outputs": [],
   "source": []
  },
  {
   "cell_type": "code",
   "execution_count": null,
   "metadata": {},
   "outputs": [],
   "source": []
  },
  {
   "cell_type": "code",
   "execution_count": 4,
   "metadata": {},
   "outputs": [
    {
     "name": "stdout",
     "output_type": "stream",
     "text": [
      "B\n",
      "[[ 79.  78.  56.]\n",
      " [ 78. 109.  74.]\n",
      " [ 56.  74.  70.]]\n",
      "V\n",
      "[0.68045772 0.53348207 0.50236855]\n",
      "B\n",
      "[[ 79.  78.  56.]\n",
      " [ 78. 109.  74.]\n",
      " [ 56.  74.  70.]]\n",
      "V\n",
      "[0.55238005 0.66375078 0.50429275]\n",
      "B\n",
      "[[ 79.  78.  56.]\n",
      " [ 78. 109.  74.]\n",
      " [ 56.  74.  70.]]\n",
      "V\n",
      "[0.54261749 0.6703221  0.50619616]\n",
      "B\n",
      "[[ 79.  78.  56.]\n",
      " [ 78. 109.  74.]\n",
      " [ 56.  74.  70.]]\n",
      "V\n",
      "[0.54190602 0.67068729 0.5064745 ]\n",
      "B\n",
      "[[ 79.  78.  56.]\n",
      " [ 78. 109.  74.]\n",
      " [ 56.  74.  70.]]\n",
      "V\n",
      "[0.54185255 0.67070856 0.50650355]\n",
      "B\n",
      "[[ 79.  78.  56.]\n",
      " [ 78. 109.  74.]\n",
      " [ 56.  74.  70.]]\n",
      "V\n",
      "[0.54184843 0.67070986 0.50650623]\n",
      "B\n",
      "[[12.08948316 -4.82311618 -6.54632798]\n",
      " [-4.82311618  6.47996431 -3.42103983]\n",
      " [-6.54632798 -3.42103983 11.53320989]]\n",
      "V\n",
      "[-0.81855263  0.55786899  0.13694447]\n",
      "B\n",
      "[[12.08948316 -4.82311618 -6.54632798]\n",
      " [-4.82311618  6.47996431 -3.42103983]\n",
      " [-6.54632798 -3.42103983 11.53320989]]\n",
      "V\n",
      "[-0.84036426  0.44217994  0.31347218]\n",
      "B\n",
      "[[12.08948316 -4.82311618 -6.54632798]\n",
      " [-4.82311618  6.47996431 -3.42103983]\n",
      " [-6.54632798 -3.42103983 11.53320989]]\n",
      "V\n",
      "[-0.83128517  0.33879291  0.44066352]\n",
      "B\n",
      "[[12.08948316 -4.82311618 -6.54632798]\n",
      " [-4.82311618  6.47996431 -3.42103983]\n",
      " [-6.54632798 -3.42103983 11.53320989]]\n",
      "V\n",
      "[-0.81185916  0.26176096  0.52188687]\n",
      "B\n",
      "[[12.08948316 -4.82311618 -6.54632798]\n",
      " [-4.82311618  6.47996431 -3.42103983]\n",
      " [-6.54632798 -3.42103983 11.53320989]]\n",
      "V\n",
      "[-0.7934608   0.20947947  0.5714353 ]\n",
      "B\n",
      "[[12.08948316 -4.82311618 -6.54632798]\n",
      " [-4.82311618  6.47996431 -3.42103983]\n",
      " [-6.54632798 -3.42103983 11.53320989]]\n",
      "V\n",
      "[-0.77941717  0.1754853   0.60142646]\n",
      "B\n",
      "[[12.08948316 -4.82311618 -6.54632798]\n",
      " [-4.82311618  6.47996431 -3.42103983]\n",
      " [-6.54632798 -3.42103983 11.53320989]]\n",
      "V\n",
      "[-0.76963643  0.15379725  0.61968232]\n",
      "B\n",
      "[[12.08948316 -4.82311618 -6.54632798]\n",
      " [-4.82311618  6.47996431 -3.42103983]\n",
      " [-6.54632798 -3.42103983 11.53320989]]\n",
      "V\n",
      "[-0.76312605  0.14007695  0.63088594]\n",
      "B\n",
      "[[12.08948316 -4.82311618 -6.54632798]\n",
      " [-4.82311618  6.47996431 -3.42103983]\n",
      " [-6.54632798 -3.42103983 11.53320989]]\n",
      "V\n",
      "[-0.75889654  0.13143093  0.63781028]\n",
      "B\n",
      "[[12.08948316 -4.82311618 -6.54632798]\n",
      " [-4.82311618  6.47996431 -3.42103983]\n",
      " [-6.54632798 -3.42103983 11.53320989]]\n",
      "V\n",
      "[-0.75618635  0.12599274  0.64211217]\n",
      "B\n",
      "[[12.08948316 -4.82311618 -6.54632798]\n",
      " [-4.82311618  6.47996431 -3.42103983]\n",
      " [-6.54632798 -3.42103983 11.53320989]]\n",
      "V\n",
      "[-0.75446368  0.12257548  0.64479439]\n",
      "B\n",
      "[[12.08948316 -4.82311618 -6.54632798]\n",
      " [-4.82311618  6.47996431 -3.42103983]\n",
      " [-6.54632798 -3.42103983 11.53320989]]\n",
      "V\n",
      "[-0.75337401  0.12042923  0.64647073]\n",
      "B\n",
      "[[12.08948316 -4.82311618 -6.54632798]\n",
      " [-4.82311618  6.47996431 -3.42103983]\n",
      " [-6.54632798 -3.42103983 11.53320989]]\n",
      "V\n",
      "[-0.75268678  0.11908163  0.64752002]\n",
      "B\n",
      "[[12.08948316 -4.82311618 -6.54632798]\n",
      " [-4.82311618  6.47996431 -3.42103983]\n",
      " [-6.54632798 -3.42103983 11.53320989]]\n",
      "V\n",
      "[-0.75225415  0.11823564  0.64817746]\n",
      "B\n",
      "[[12.08948316 -4.82311618 -6.54632798]\n",
      " [-4.82311618  6.47996431 -3.42103983]\n",
      " [-6.54632798 -3.42103983 11.53320989]]\n",
      "V\n",
      "[-0.75198211  0.11770459  0.64858965]\n",
      "B\n",
      "[[12.08948316 -4.82311618 -6.54632798]\n",
      " [-4.82311618  6.47996431 -3.42103983]\n",
      " [-6.54632798 -3.42103983 11.53320989]]\n",
      "V\n",
      "[-0.75181117  0.11737126  0.64884817]\n",
      "B\n",
      "[[12.08948316 -4.82311618 -6.54632798]\n",
      " [-4.82311618  6.47996431 -3.42103983]\n",
      " [-6.54632798 -3.42103983 11.53320989]]\n",
      "V\n",
      "[-0.75170381  0.11716205  0.64901035]\n",
      "B\n",
      "[[12.08948316 -4.82311618 -6.54632798]\n",
      " [-4.82311618  6.47996431 -3.42103983]\n",
      " [-6.54632798 -3.42103983 11.53320989]]\n",
      "V\n",
      "[-0.75163639  0.11703074  0.64911212]\n",
      "B\n",
      "[[12.08948316 -4.82311618 -6.54632798]\n",
      " [-4.82311618  6.47996431 -3.42103983]\n",
      " [-6.54632798 -3.42103983 11.53320989]]\n",
      "V\n",
      "[-0.75159407  0.11694832  0.64917597]\n",
      "B\n",
      "[[12.08948316 -4.82311618 -6.54632798]\n",
      " [-4.82311618  6.47996431 -3.42103983]\n",
      " [-6.54632798 -3.42103983 11.53320989]]\n",
      "V\n",
      "[-0.7515675   0.11689659  0.64921605]\n",
      "B\n",
      "[[12.08948316 -4.82311618 -6.54632798]\n",
      " [-4.82311618  6.47996431 -3.42103983]\n",
      " [-6.54632798 -3.42103983 11.53320989]]\n",
      "V\n",
      "[-0.75155082  0.11686413  0.6492412 ]\n",
      "B\n",
      "[[12.08948316 -4.82311618 -6.54632798]\n",
      " [-4.82311618  6.47996431 -3.42103983]\n",
      " [-6.54632798 -3.42103983 11.53320989]]\n",
      "V\n",
      "[-0.75154036  0.11684375  0.64925698]\n",
      "B\n",
      "[[12.08948316 -4.82311618 -6.54632798]\n",
      " [-4.82311618  6.47996431 -3.42103983]\n",
      " [-6.54632798 -3.42103983 11.53320989]]\n",
      "V\n",
      "[-0.75153379  0.11683096  0.64926689]\n",
      "B\n",
      "[[12.08948316 -4.82311618 -6.54632798]\n",
      " [-4.82311618  6.47996431 -3.42103983]\n",
      " [-6.54632798 -3.42103983 11.53320989]]\n",
      "V\n",
      "[-0.75152966  0.11682294  0.6492731 ]\n",
      "B\n",
      "[[ 1.64369981 -3.19941624  2.47823968]\n",
      " [-3.19941624  6.22757524 -4.82382501]\n",
      " [ 2.47823968 -4.82382501  3.73649243]]\n",
      "V\n",
      "[-0.37630233  0.73246207 -0.56735868]\n",
      "B\n",
      "[[ 1.64369981 -3.19941624  2.47823968]\n",
      " [-3.19941624  6.22757524 -4.82382501]\n",
      " [ 2.47823968 -4.82382501  3.73649243]]\n",
      "V\n",
      "[-0.37630233  0.73246207 -0.56735868]\n"
     ]
    }
   ],
   "source": [
    "# compute SVD\n",
    "singularValues,U,V = svdPowerMethod(A)\n"
   ]
  },
  {
   "cell_type": "code",
   "execution_count": 5,
   "metadata": {},
   "outputs": [],
   "source": [
    "rS,cS=np.diag(singularValues).shape\n",
    "rU,cU=U.shape\n",
    "rV,cV=V.shape"
   ]
  },
  {
   "cell_type": "code",
   "execution_count": 6,
   "metadata": {},
   "outputs": [
    {
     "name": "stdout",
     "output_type": "stream",
     "text": [
      "[[ 0.22155208 -0.52086662 -0.39333697]\n",
      " [ 0.39458523  0.23924155  0.35445363]\n",
      " [ 0.15830232  0.03055162  0.15299691]\n",
      " [ 0.53347447  0.19168664 -0.19949776]\n",
      " [ 0.39692635 -0.08648347  0.41053093]\n",
      " [ 0.31660463  0.06110323  0.30599382]\n",
      " [ 0.34630265 -0.64128879 -0.07381356]\n",
      " [ 0.32840218  0.45969551 -0.62355828]]\n"
     ]
    }
   ],
   "source": [
    "print(U)"
   ]
  },
  {
   "cell_type": "code",
   "execution_count": 22,
   "metadata": {},
   "outputs": [
    {
     "data": {
      "text/plain": [
       "array([[1., 0., 0.],\n",
       "       [0., 1., 0.],\n",
       "       [0., 0., 1.]])"
      ]
     },
     "execution_count": 22,
     "metadata": {},
     "output_type": "execute_result"
    }
   ],
   "source": [
    "np.round(np.dot(U.T,U),2)"
   ]
  },
  {
   "cell_type": "code",
   "execution_count": 20,
   "metadata": {},
   "outputs": [
    {
     "data": {
      "text/plain": [
       "array([[1., 0., 0.],\n",
       "       [0., 1., 0.],\n",
       "       [0., 0., 1.]])"
      ]
     },
     "execution_count": 20,
     "metadata": {},
     "output_type": "execute_result"
    }
   ],
   "source": [
    "np.round(np.dot(V,V.T),2)"
   ]
  },
  {
   "cell_type": "code",
   "execution_count": 7,
   "metadata": {},
   "outputs": [
    {
     "name": "stdout",
     "output_type": "stream",
     "text": [
      "[[15.09626916  0.          0.        ]\n",
      " [ 0.          4.30056855  0.        ]\n",
      " [ 0.          0.          3.40701739]]\n"
     ]
    }
   ],
   "source": [
    "print(np.diag(singularValues))"
   ]
  },
  {
   "cell_type": "code",
   "execution_count": 8,
   "metadata": {},
   "outputs": [
    {
     "name": "stdout",
     "output_type": "stream",
     "text": [
      "[[ 0.54184843  0.67070986  0.50650623]\n",
      " [-0.75152966  0.11682294  0.6492731 ]\n",
      " [-0.37630233  0.73246207 -0.56735868]]\n"
     ]
    }
   ],
   "source": [
    "print(V)"
   ]
  },
  {
   "cell_type": "code",
   "execution_count": 9,
   "metadata": {},
   "outputs": [],
   "source": [
    "# reconstitute matrix A\n",
    "Sigma = np.diag(singularValues)\n",
    "# reconstitute matrix A\n",
    "AA=np.dot(U, np.dot(Sigma, V))"
   ]
  },
  {
   "cell_type": "code",
   "execution_count": 28,
   "metadata": {},
   "outputs": [
    {
     "name": "stdout",
     "output_type": "stream",
     "text": [
      "[[ 8.17988977 10.12521654  7.64635442]\n",
      " [-3.23200484  0.50240505  2.7922435 ]\n",
      " [-1.28206857  2.49551102 -1.93300089]]\n"
     ]
    }
   ],
   "source": [
    "print(np.dot(Sigma, V))"
   ]
  },
  {
   "cell_type": "code",
   "execution_count": 10,
   "metadata": {},
   "outputs": [
    {
     "name": "stdout",
     "output_type": "stream",
     "text": [
      "[[4. 1. 1.]\n",
      " [2. 5. 3.]\n",
      " [1. 2. 1.]\n",
      " [4. 5. 5.]\n",
      " [3. 5. 2.]\n",
      " [2. 4. 2.]\n",
      " [5. 3. 1.]\n",
      " [2. 2. 5.]]\n"
     ]
    }
   ],
   "source": [
    "print(AA)"
   ]
  },
  {
   "cell_type": "code",
   "execution_count": 11,
   "metadata": {},
   "outputs": [
    {
     "name": "stdout",
     "output_type": "stream",
     "text": [
      "[[0. 0. 0.]\n",
      " [0. 0. 0.]\n",
      " [0. 0. 0.]\n",
      " [0. 0. 0.]\n",
      " [0. 0. 0.]\n",
      " [0. 0. 0.]\n",
      " [0. 0. 0.]\n",
      " [0. 0. 0.]]\n"
     ]
    }
   ],
   "source": [
    "# define number of digits for rounding\n",
    "nDigits=10\n",
    "\n",
    "print(np.round(A - AA, decimals=nDigits))\n"
   ]
  },
  {
   "cell_type": "code",
   "execution_count": null,
   "metadata": {},
   "outputs": [],
   "source": []
  }
 ],
 "metadata": {
  "kernelspec": {
   "display_name": "Python 2",
   "language": "python",
   "name": "python2"
  },
  "language_info": {
   "codemirror_mode": {
    "name": "ipython",
    "version": 2
   },
   "file_extension": ".py",
   "mimetype": "text/x-python",
   "name": "python",
   "nbconvert_exporter": "python",
   "pygments_lexer": "ipython2",
   "version": "2.7.15"
  }
 },
 "nbformat": 4,
 "nbformat_minor": 2
}
